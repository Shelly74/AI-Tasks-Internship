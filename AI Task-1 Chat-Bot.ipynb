{
  "cells": [
    {
      "cell_type": "markdown",
      "metadata": {
        "colab_type": "text",
        "id": "view-in-github"
      },
      "source": [
        "<a href=\"https://colab.research.google.com/github/llmoonstrucktravellerll/CodSoft/blob/main/Task_1.ipynb\" target=\"_parent\"><img src=\"https://colab.research.google.com/assets/colab-badge.svg\" alt=\"Open In Colab\"/></a>"
      ]
    },
    {
      "cell_type": "code",
      "execution_count": 1,
      "metadata": {
        "colab": {
          "base_uri": "https://localhost:8080/"
        },
        "id": "NkxtCBbb2srG",
        "outputId": "cb7c129f-36dd-4b25-be68-b1a9bdee1d0a"
      },
      "outputs": [
        {
          "name": "stdout",
          "output_type": "stream",
          "text": [
            "-----WELCOME-----\n",
            "Choose a category:\n",
            "1. Healthcare-related queries\n",
            "2. General queries regarding Chatbot\n",
            "Enter '1' for healthcare or '2' for general: 1\n",
            "Enter query or input (type 'exit' to end): hi\n",
            "🤖: Hello! How can I assist you today?\n",
            "Enter query or input (type 'exit' to end): cold\n",
            "🤖: I'm not sure how to respond to that. Please ask me something else.\n",
            "Enter query or input (type 'exit' to end): symtoms of cold\n",
            "🤖: I'm not sure how to respond to that. Please ask me something else.\n",
            "Enter query or input (type 'exit' to end): symptoms of cold\n",
            "🤖: Common cold symptoms may include sneezing, runny or stuffy nose, sore throat, and coughing. If you have concerns, it's advisable to consult a healthcare professional.\n",
            "Enter query or input (type 'exit' to end): exit\n",
            "🤖: Goodbye!\n"
          ]
        }
      ],
      "source": [
        "\n",
        "#Chatbot AI\n",
        "#Shelly Maan Singh Rajpoot Garg(Kanhiya Romeo Garg)\n",
        "def simple_ai_chatbot(user_input, category):\n",
        "    user_input = user_input.lower()\n",
        "\n",
        "    if category == 1:\n",
        "        response_prefix = \"If you have concerns, it's advisable to consult a healthcare professional.\"\n",
        "        if any(greeting in user_input for greeting in [\"hello\", \"hi\", \"hey\"]):\n",
        "            return \"Hello! How can I assist you today?\"\n",
        "        if \"symptoms\" in user_input and any(keyword in user_input for keyword in [\"cold\", \"common cold\"]):\n",
        "            return f\"Common cold symptoms may include sneezing, runny or stuffy nose, sore throat, and coughing. {response_prefix}\"\n",
        "        if \"symptoms\" in user_input and any(keyword in user_input for keyword in [\"diabetes\", \"type 1 diabetes\", \"type 2 diabetes\"]):\n",
        "            return f\"Symptoms of diabetes can include increased thirst, frequent urination, unexplained weight loss, fatigue, blurred vision, and slow wound healing. {response_prefix}\"\n",
        "        if \"symptoms\" in user_input and any(keyword in user_input for keyword in [\"flu\", \"influenza\"]):\n",
        "            return f\"Influenza symptoms are similar to the common cold but are often more severe and may include fever, body aches, fatigue, and respiratory symptoms. Rest and hydration are important, and antiviral medications may be prescribed in some cases. {response_prefix}\"\n",
        "        if \"symptoms\" in user_input and any(keyword in user_input for keyword in [\"high blood pressure\", \"hypertension\"]):\n",
        "            return f\"High blood pressure symptoms often includes severe headaches,chest pain,dizziness,nausea,vomiting.It may lead to serious health issues such as heart disease and stroke. {response_prefix}\"\n",
        "        elif \"return\" in user_input or \"back\" in user_input:\n",
        "            return \"Returning to the main menu.\"\n",
        "        else:\n",
        "            return \"I'm not sure how to respond to that. Please ask me something else.\"\n",
        "\n",
        "    elif category == 2:\n",
        "        if any(keyword in user_input for keyword in [\"who are you\", \"what are you\"]):\n",
        "            return \"I am a Simple AI Chatbot(Rule-Based) designed to assist you with information and support.\"\n",
        "        elif any(keyword in user_input for keyword in [\"help\", \"features\", \"commands\", \"what can you do\"]):\n",
        "            return \"You can ask me about health-related queries. Additionally, I can provide chatbot related general information. Feel free to explore!\"\n",
        "        elif any(keyword in user_input for keyword in [\"thank you\", \"thanks\"]):\n",
        "            return \"You're welcome! If you have more questions, feel free to ask.\"\n",
        "        elif any(keyword in user_input for keyword in [\"joke\", \"tell me a joke\"]):\n",
        "            return \"Sure, here's a joke: Why don't scientists trust atoms? Because they make up everything!\"\n",
        "        elif \"return\" in user_input or \"back\" in user_input:\n",
        "            return \"Returning to the main menu.\"\n",
        "        else:\n",
        "            return \"I'm not sure how to respond to that. Please ask me something else.\"\n",
        "print(\"-----WELCOME-----\")\n",
        "print(\"Choose a category:\")\n",
        "print(\"1. Healthcare-related queries\")\n",
        "print(\"2. General queries regarding Chatbot\")\n",
        "category_choice = input(\"Enter '1' for healthcare or '2' for general: \")\n",
        "\n",
        "if category_choice not in ['1', '2']:\n",
        "    print(\"Invalid choice. Exiting.\")\n",
        "else:\n",
        "    category_choice = int(category_choice)\n",
        "    active = True\n",
        "    while active:\n",
        "        user_input = input(\"Enter query or input (type 'exit' to end): \")\n",
        "\n",
        "        if user_input.lower() == \"exit\":\n",
        "            print(\"🤖: Goodbye!\")\n",
        "            break\n",
        "\n",
        "        response = simple_ai_chatbot(user_input, category_choice)\n",
        "        print(\"🤖:\", response)\n",
        "\n",
        "        if \"return\" in response.lower() or \"back\" in response.lower():\n",
        "            print(\"-----WELCOME-----\")\n",
        "            print(\"Choose a category:\")\n",
        "            print(\"1. Healthcare-related queries\")\n",
        "            print(\"2. General queries regarding Chatbot\")\n",
        "            category_choice = input(\"Enter '1' for healthcare or '2' for general: \")\n",
        "            if category_choice not in ['1', '2']:\n",
        "                print(\"Invalid choice. Exiting.\")\n",
        "                break\n",
        "            else:\n",
        "                category_choice = int(category_choice)\n",
        "\n"
      ]
    }
  ],
  "metadata": {
    "colab": {
      "authorship_tag": "ABX9TyMdaVg2JhWi7iPL05VnyUB5",
      "include_colab_link": true,
      "provenance": []
    },
    "kernelspec": {
      "display_name": "Python 3",
      "name": "python3"
    },
    "language_info": {
      "name": "python"
    }
  },
  "nbformat": 4,
  "nbformat_minor": 0
}
